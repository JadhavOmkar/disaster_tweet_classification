{
 "cells": [
  {
   "cell_type": "markdown",
   "metadata": {
    "id": "LPaNyO299wF-"
   },
   "source": [
    "# Predict Disaster Tweets using NLP"
   ]
  },
  {
   "cell_type": "markdown",
   "metadata": {
    "id": "YptAGLJ09rgK"
   },
   "source": [
    "### Load required libraries"
   ]
  },
  {
   "cell_type": "code",
   "execution_count": 1,
   "metadata": {
    "executionInfo": {
     "elapsed": 1619,
     "status": "ok",
     "timestamp": 1629195468332,
     "user": {
      "displayName": "Omkar Jadhav",
      "photoUrl": "https://lh3.googleusercontent.com/a-/AOh14GhguANC4TZmTjgMu2fbtYP9pYtfeYWByKltGROoiQ=s64",
      "userId": "12015773761906114905"
     },
     "user_tz": -330
    },
    "id": "GtIX1H_H7wg9"
   },
   "outputs": [],
   "source": [
    "import numpy as np\n",
    "import pandas as pd\n",
    "import seaborn as sns\n",
    "import matplotlib.pyplot as plt\n",
    "import contractions\n",
    "import re\n",
    "import nltk\n",
    "from nltk.corpus import stopwords\n",
    "from nltk.corpus import wordnet\n",
    "from nltk.stem.wordnet import WordNetLemmatizer\n",
    "from nltk import pos_tag, word_tokenize\n",
    "from sklearn.feature_extraction.text import TfidfVectorizer\n",
    "from sklearn.model_selection import train_test_split\n",
    "import lightgbm as lgb\n",
    "from sklearn.metrics import accuracy_score, classification_report, confusion_matrix\n",
    "lemmatizer = WordNetLemmatizer()"
   ]
  },
  {
   "cell_type": "code",
   "execution_count": 2,
   "metadata": {
    "colab": {
     "base_uri": "https://localhost:8080/"
    },
    "executionInfo": {
     "elapsed": 32,
     "status": "ok",
     "timestamp": 1629195469522,
     "user": {
      "displayName": "Omkar Jadhav",
      "photoUrl": "https://lh3.googleusercontent.com/a-/AOh14GhguANC4TZmTjgMu2fbtYP9pYtfeYWByKltGROoiQ=s64",
      "userId": "12015773761906114905"
     },
     "user_tz": -330
    },
    "id": "rFEyxAD_71Os",
    "outputId": "63320c13-7022-473e-f0a0-b314f958e7e0"
   },
   "outputs": [
    {
     "name": "stdout",
     "output_type": "stream",
     "text": [
      "[nltk_data] Downloading package stopwords to /root/nltk_data...\n",
      "[nltk_data]   Package stopwords is already up-to-date!\n",
      "[nltk_data] Downloading package wordnet to /root/nltk_data...\n",
      "[nltk_data]   Package wordnet is already up-to-date!\n",
      "[nltk_data] Downloading package punkt to /root/nltk_data...\n",
      "[nltk_data]   Package punkt is already up-to-date!\n",
      "[nltk_data] Downloading package averaged_perceptron_tagger to\n",
      "[nltk_data]     /root/nltk_data...\n",
      "[nltk_data]   Package averaged_perceptron_tagger is already up-to-\n",
      "[nltk_data]       date!\n"
     ]
    },
    {
     "data": {
      "text/plain": [
       "True"
      ]
     },
     "execution_count": 2,
     "metadata": {
      "tags": []
     },
     "output_type": "execute_result"
    }
   ],
   "source": [
    "%matplotlib inline\n",
    "\n",
    "pd.set_option('display.max_columns', None)\n",
    "pd.set_option('display.max_rows', None)\n",
    "sns.set_style('darkgrid')\n",
    "nltk.download(\"stopwords\")\n",
    "nltk.download('wordnet')\n",
    "nltk.download('punkt')\n",
    "nltk.download('averaged_perceptron_tagger')"
   ]
  },
  {
   "cell_type": "code",
   "execution_count": 3,
   "metadata": {
    "executionInfo": {
     "elapsed": 24,
     "status": "ok",
     "timestamp": 1629195469523,
     "user": {
      "displayName": "Omkar Jadhav",
      "photoUrl": "https://lh3.googleusercontent.com/a-/AOh14GhguANC4TZmTjgMu2fbtYP9pYtfeYWByKltGROoiQ=s64",
      "userId": "12015773761906114905"
     },
     "user_tz": -330
    },
    "id": "j4sDurAi7-Hp"
   },
   "outputs": [],
   "source": [
    "stopword = nltk.corpus.stopwords.words('english')"
   ]
  },
  {
   "cell_type": "markdown",
   "metadata": {
    "id": "TMPXN11p9lF4"
   },
   "source": [
    "### Load helper functions"
   ]
  },
  {
   "cell_type": "code",
   "execution_count": 4,
   "metadata": {
    "executionInfo": {
     "elapsed": 26,
     "status": "ok",
     "timestamp": 1629195469525,
     "user": {
      "displayName": "Omkar Jadhav",
      "photoUrl": "https://lh3.googleusercontent.com/a-/AOh14GhguANC4TZmTjgMu2fbtYP9pYtfeYWByKltGROoiQ=s64",
      "userId": "12015773761906114905"
     },
     "user_tz": -330
    },
    "id": "gizVCepX8VG2"
   },
   "outputs": [],
   "source": [
    "# helper functions\n",
    "def tokenize(text):\n",
    "    split=re.split(\"\\W+\",text) \n",
    "    return split\n",
    "\n",
    "def remove_stopwords(text):\n",
    "    text=[word for word in text if word not in stopword]\n",
    "    return text\n",
    "\n",
    "def remove_smallwords(text, length = 2):\n",
    "    text=[word for word in text if len(word) > length]\n",
    "    return text\n",
    "\n",
    "def get_wordnet_pos(treebank_tag):\n",
    "  \"\"\"\n",
    "  return WORDNET POS compliance to WORDENT lemmatization (a,n,r,v) \n",
    "  \"\"\"\n",
    "  if treebank_tag.startswith('J'):\n",
    "      return wordnet.ADJ\n",
    "  elif treebank_tag.startswith('V'):\n",
    "      return wordnet.VERB\n",
    "  elif treebank_tag.startswith('N'):\n",
    "      return wordnet.NOUN\n",
    "  elif treebank_tag.startswith('R'):\n",
    "      return wordnet.ADV\n",
    "  else:\n",
    "      # As default pos in lemmatization is Noun\n",
    "      return wordnet.NOUN\n",
    "\n",
    "def wordnet_tagging(word):\n",
    "  #word = list(word)\n",
    "  postg = pos_tag(word)\n",
    "  wntag = get_wordnet_pos(postg[0][1])\n",
    "  return wntag\n",
    "\n",
    "def countnonoverlappingrematches(pattern, thestring):\n",
    "  return re.subn(pattern, '', thestring)[1]"
   ]
  },
  {
   "cell_type": "markdown",
   "metadata": {
    "id": "xWkd04Ew9gG8"
   },
   "source": [
    "### Load Input Data"
   ]
  },
  {
   "cell_type": "code",
   "execution_count": 5,
   "metadata": {
    "executionInfo": {
     "elapsed": 26,
     "status": "ok",
     "timestamp": 1629195469526,
     "user": {
      "displayName": "Omkar Jadhav",
      "photoUrl": "https://lh3.googleusercontent.com/a-/AOh14GhguANC4TZmTjgMu2fbtYP9pYtfeYWByKltGROoiQ=s64",
      "userId": "12015773761906114905"
     },
     "user_tz": -330
    },
    "id": "OPsyHlAo9UNF"
   },
   "outputs": [],
   "source": [
    "train_file_path = '/content/drive/MyDrive/Kaggle/identify disaster tweets/train.csv'"
   ]
  },
  {
   "cell_type": "code",
   "execution_count": 6,
   "metadata": {
    "executionInfo": {
     "elapsed": 26,
     "status": "ok",
     "timestamp": 1629195469527,
     "user": {
      "displayName": "Omkar Jadhav",
      "photoUrl": "https://lh3.googleusercontent.com/a-/AOh14GhguANC4TZmTjgMu2fbtYP9pYtfeYWByKltGROoiQ=s64",
      "userId": "12015773761906114905"
     },
     "user_tz": -330
    },
    "id": "5WgeVRdR9WrX"
   },
   "outputs": [],
   "source": [
    "train = pd.read_csv(train_file_path)"
   ]
  },
  {
   "cell_type": "code",
   "execution_count": 7,
   "metadata": {
    "executionInfo": {
     "elapsed": 27,
     "status": "ok",
     "timestamp": 1629195469528,
     "user": {
      "displayName": "Omkar Jadhav",
      "photoUrl": "https://lh3.googleusercontent.com/a-/AOh14GhguANC4TZmTjgMu2fbtYP9pYtfeYWByKltGROoiQ=s64",
      "userId": "12015773761906114905"
     },
     "user_tz": -330
    },
    "id": "p7UYnVW1eDI1"
   },
   "outputs": [],
   "source": [
    "test_file_path = '/content/drive/MyDrive/Kaggle/identify disaster tweets/test.csv'"
   ]
  },
  {
   "cell_type": "code",
   "execution_count": 8,
   "metadata": {
    "executionInfo": {
     "elapsed": 27,
     "status": "ok",
     "timestamp": 1629195469529,
     "user": {
      "displayName": "Omkar Jadhav",
      "photoUrl": "https://lh3.googleusercontent.com/a-/AOh14GhguANC4TZmTjgMu2fbtYP9pYtfeYWByKltGROoiQ=s64",
      "userId": "12015773761906114905"
     },
     "user_tz": -330
    },
    "id": "lHOyv56PeL2K"
   },
   "outputs": [],
   "source": [
    "test = pd.read_csv(test_file_path)"
   ]
  },
  {
   "cell_type": "code",
   "execution_count": 9,
   "metadata": {
    "colab": {
     "base_uri": "https://localhost:8080/"
    },
    "executionInfo": {
     "elapsed": 28,
     "status": "ok",
     "timestamp": 1629195469530,
     "user": {
      "displayName": "Omkar Jadhav",
      "photoUrl": "https://lh3.googleusercontent.com/a-/AOh14GhguANC4TZmTjgMu2fbtYP9pYtfeYWByKltGROoiQ=s64",
      "userId": "12015773761906114905"
     },
     "user_tz": -330
    },
    "id": "kY78HEfX9bJB",
    "outputId": "49497a75-dcda-4e30-88be-d0aea87b3ab8"
   },
   "outputs": [
    {
     "data": {
      "text/plain": [
       "(7613, 5)"
      ]
     },
     "execution_count": 9,
     "metadata": {
      "tags": []
     },
     "output_type": "execute_result"
    }
   ],
   "source": [
    "train.shape"
   ]
  },
  {
   "cell_type": "code",
   "execution_count": 10,
   "metadata": {
    "colab": {
     "base_uri": "https://localhost:8080/"
    },
    "executionInfo": {
     "elapsed": 25,
     "status": "ok",
     "timestamp": 1629195469532,
     "user": {
      "displayName": "Omkar Jadhav",
      "photoUrl": "https://lh3.googleusercontent.com/a-/AOh14GhguANC4TZmTjgMu2fbtYP9pYtfeYWByKltGROoiQ=s64",
      "userId": "12015773761906114905"
     },
     "user_tz": -330
    },
    "id": "xX5PhvNgeTuu",
    "outputId": "caef3f74-af3e-4234-c72c-768737a10202"
   },
   "outputs": [
    {
     "data": {
      "text/plain": [
       "(3263, 4)"
      ]
     },
     "execution_count": 10,
     "metadata": {
      "tags": []
     },
     "output_type": "execute_result"
    }
   ],
   "source": [
    "test.shape"
   ]
  },
  {
   "cell_type": "code",
   "execution_count": 11,
   "metadata": {
    "colab": {
     "base_uri": "https://localhost:8080/",
     "height": 204
    },
    "executionInfo": {
     "elapsed": 23,
     "status": "ok",
     "timestamp": 1629195469533,
     "user": {
      "displayName": "Omkar Jadhav",
      "photoUrl": "https://lh3.googleusercontent.com/a-/AOh14GhguANC4TZmTjgMu2fbtYP9pYtfeYWByKltGROoiQ=s64",
      "userId": "12015773761906114905"
     },
     "user_tz": -330
    },
    "id": "Z9HlRj3neXEY",
    "outputId": "22cea361-ddf0-4b24-ddc9-0c4332c35f09"
   },
   "outputs": [
    {
     "data": {
      "text/html": [
       "<div>\n",
       "<style scoped>\n",
       "    .dataframe tbody tr th:only-of-type {\n",
       "        vertical-align: middle;\n",
       "    }\n",
       "\n",
       "    .dataframe tbody tr th {\n",
       "        vertical-align: top;\n",
       "    }\n",
       "\n",
       "    .dataframe thead th {\n",
       "        text-align: right;\n",
       "    }\n",
       "</style>\n",
       "<table border=\"1\" class=\"dataframe\">\n",
       "  <thead>\n",
       "    <tr style=\"text-align: right;\">\n",
       "      <th></th>\n",
       "      <th>id</th>\n",
       "      <th>keyword</th>\n",
       "      <th>location</th>\n",
       "      <th>text</th>\n",
       "      <th>target</th>\n",
       "    </tr>\n",
       "  </thead>\n",
       "  <tbody>\n",
       "    <tr>\n",
       "      <th>0</th>\n",
       "      <td>1</td>\n",
       "      <td>NaN</td>\n",
       "      <td>NaN</td>\n",
       "      <td>Our Deeds are the Reason of this #earthquake M...</td>\n",
       "      <td>1</td>\n",
       "    </tr>\n",
       "    <tr>\n",
       "      <th>1</th>\n",
       "      <td>4</td>\n",
       "      <td>NaN</td>\n",
       "      <td>NaN</td>\n",
       "      <td>Forest fire near La Ronge Sask. Canada</td>\n",
       "      <td>1</td>\n",
       "    </tr>\n",
       "    <tr>\n",
       "      <th>2</th>\n",
       "      <td>5</td>\n",
       "      <td>NaN</td>\n",
       "      <td>NaN</td>\n",
       "      <td>All residents asked to 'shelter in place' are ...</td>\n",
       "      <td>1</td>\n",
       "    </tr>\n",
       "    <tr>\n",
       "      <th>3</th>\n",
       "      <td>6</td>\n",
       "      <td>NaN</td>\n",
       "      <td>NaN</td>\n",
       "      <td>13,000 people receive #wildfires evacuation or...</td>\n",
       "      <td>1</td>\n",
       "    </tr>\n",
       "    <tr>\n",
       "      <th>4</th>\n",
       "      <td>7</td>\n",
       "      <td>NaN</td>\n",
       "      <td>NaN</td>\n",
       "      <td>Just got sent this photo from Ruby #Alaska as ...</td>\n",
       "      <td>1</td>\n",
       "    </tr>\n",
       "  </tbody>\n",
       "</table>\n",
       "</div>"
      ],
      "text/plain": [
       "   id keyword location                                               text  \\\n",
       "0   1     NaN      NaN  Our Deeds are the Reason of this #earthquake M...   \n",
       "1   4     NaN      NaN             Forest fire near La Ronge Sask. Canada   \n",
       "2   5     NaN      NaN  All residents asked to 'shelter in place' are ...   \n",
       "3   6     NaN      NaN  13,000 people receive #wildfires evacuation or...   \n",
       "4   7     NaN      NaN  Just got sent this photo from Ruby #Alaska as ...   \n",
       "\n",
       "   target  \n",
       "0       1  \n",
       "1       1  \n",
       "2       1  \n",
       "3       1  \n",
       "4       1  "
      ]
     },
     "execution_count": 11,
     "metadata": {
      "tags": []
     },
     "output_type": "execute_result"
    }
   ],
   "source": [
    "train.head()"
   ]
  },
  {
   "cell_type": "code",
   "execution_count": 12,
   "metadata": {
    "colab": {
     "base_uri": "https://localhost:8080/"
    },
    "executionInfo": {
     "elapsed": 22,
     "status": "ok",
     "timestamp": 1629195469534,
     "user": {
      "displayName": "Omkar Jadhav",
      "photoUrl": "https://lh3.googleusercontent.com/a-/AOh14GhguANC4TZmTjgMu2fbtYP9pYtfeYWByKltGROoiQ=s64",
      "userId": "12015773761906114905"
     },
     "user_tz": -330
    },
    "id": "7ZT1sHjneZrr",
    "outputId": "5dbe0255-cd3a-46cf-8856-c8828dccdfdd"
   },
   "outputs": [
    {
     "data": {
      "text/plain": [
       "(3263, 4)"
      ]
     },
     "execution_count": 12,
     "metadata": {
      "tags": []
     },
     "output_type": "execute_result"
    }
   ],
   "source": [
    "test.shape"
   ]
  },
  {
   "cell_type": "markdown",
   "metadata": {
    "id": "NH8keaAGfgYg"
   },
   "source": [
    "Adding NaN values in target column for test data which will help us to identify test set later"
   ]
  },
  {
   "cell_type": "code",
   "execution_count": 13,
   "metadata": {
    "executionInfo": {
     "elapsed": 20,
     "status": "ok",
     "timestamp": 1629195469535,
     "user": {
      "displayName": "Omkar Jadhav",
      "photoUrl": "https://lh3.googleusercontent.com/a-/AOh14GhguANC4TZmTjgMu2fbtYP9pYtfeYWByKltGROoiQ=s64",
      "userId": "12015773761906114905"
     },
     "user_tz": -330
    },
    "id": "f-DUUUGMedB4"
   },
   "outputs": [],
   "source": [
    "test['target'] = np.NaN"
   ]
  },
  {
   "cell_type": "code",
   "execution_count": 14,
   "metadata": {
    "colab": {
     "base_uri": "https://localhost:8080/"
    },
    "executionInfo": {
     "elapsed": 1480,
     "status": "ok",
     "timestamp": 1629195470995,
     "user": {
      "displayName": "Omkar Jadhav",
      "photoUrl": "https://lh3.googleusercontent.com/a-/AOh14GhguANC4TZmTjgMu2fbtYP9pYtfeYWByKltGROoiQ=s64",
      "userId": "12015773761906114905"
     },
     "user_tz": -330
    },
    "id": "46p_9kx_e7ZZ",
    "outputId": "e9aacb27-7493-421e-cc0c-0a94d542aa56"
   },
   "outputs": [
    {
     "data": {
      "text/plain": [
       "(3263, 5)"
      ]
     },
     "execution_count": 14,
     "metadata": {
      "tags": []
     },
     "output_type": "execute_result"
    }
   ],
   "source": [
    "test.shape"
   ]
  },
  {
   "cell_type": "code",
   "execution_count": 15,
   "metadata": {
    "executionInfo": {
     "elapsed": 118,
     "status": "ok",
     "timestamp": 1629195470996,
     "user": {
      "displayName": "Omkar Jadhav",
      "photoUrl": "https://lh3.googleusercontent.com/a-/AOh14GhguANC4TZmTjgMu2fbtYP9pYtfeYWByKltGROoiQ=s64",
      "userId": "12015773761906114905"
     },
     "user_tz": -330
    },
    "id": "hBetjGduenS-"
   },
   "outputs": [],
   "source": [
    "data = pd.concat([train, test], axis=0)"
   ]
  },
  {
   "cell_type": "code",
   "execution_count": 16,
   "metadata": {
    "colab": {
     "base_uri": "https://localhost:8080/"
    },
    "executionInfo": {
     "elapsed": 120,
     "status": "ok",
     "timestamp": 1629195470999,
     "user": {
      "displayName": "Omkar Jadhav",
      "photoUrl": "https://lh3.googleusercontent.com/a-/AOh14GhguANC4TZmTjgMu2fbtYP9pYtfeYWByKltGROoiQ=s64",
      "userId": "12015773761906114905"
     },
     "user_tz": -330
    },
    "id": "hlE_OYqkettT",
    "outputId": "039c981c-8bd9-4719-a255-1d36bd57f703"
   },
   "outputs": [
    {
     "data": {
      "text/plain": [
       "(10876, 5)"
      ]
     },
     "execution_count": 16,
     "metadata": {
      "tags": []
     },
     "output_type": "execute_result"
    }
   ],
   "source": [
    "data.shape"
   ]
  },
  {
   "cell_type": "markdown",
   "metadata": {
    "id": "ri2Glclp920U"
   },
   "source": [
    "Let's view training data"
   ]
  },
  {
   "cell_type": "code",
   "execution_count": 17,
   "metadata": {
    "executionInfo": {
     "elapsed": 116,
     "status": "ok",
     "timestamp": 1629195471001,
     "user": {
      "displayName": "Omkar Jadhav",
      "photoUrl": "https://lh3.googleusercontent.com/a-/AOh14GhguANC4TZmTjgMu2fbtYP9pYtfeYWByKltGROoiQ=s64",
      "userId": "12015773761906114905"
     },
     "user_tz": -330
    },
    "id": "KOim-oIU9c-I"
   },
   "outputs": [],
   "source": [
    "data.reset_index(drop=True, inplace=True)"
   ]
  },
  {
   "cell_type": "code",
   "execution_count": 18,
   "metadata": {
    "colab": {
     "base_uri": "https://localhost:8080/"
    },
    "executionInfo": {
     "elapsed": 117,
     "status": "ok",
     "timestamp": 1629195471002,
     "user": {
      "displayName": "Omkar Jadhav",
      "photoUrl": "https://lh3.googleusercontent.com/a-/AOh14GhguANC4TZmTjgMu2fbtYP9pYtfeYWByKltGROoiQ=s64",
      "userId": "12015773761906114905"
     },
     "user_tz": -330
    },
    "id": "yx09uxp-fOwV",
    "outputId": "4c93d946-58b4-43e2-d8ae-f394cabc5259"
   },
   "outputs": [
    {
     "data": {
      "text/plain": [
       "RangeIndex(start=0, stop=10876, step=1)"
      ]
     },
     "execution_count": 18,
     "metadata": {
      "tags": []
     },
     "output_type": "execute_result"
    }
   ],
   "source": [
    "data.index"
   ]
  },
  {
   "cell_type": "code",
   "execution_count": 19,
   "metadata": {
    "colab": {
     "base_uri": "https://localhost:8080/",
     "height": 576
    },
    "executionInfo": {
     "elapsed": 111,
     "status": "ok",
     "timestamp": 1629195471003,
     "user": {
      "displayName": "Omkar Jadhav",
      "photoUrl": "https://lh3.googleusercontent.com/a-/AOh14GhguANC4TZmTjgMu2fbtYP9pYtfeYWByKltGROoiQ=s64",
      "userId": "12015773761906114905"
     },
     "user_tz": -330
    },
    "id": "juyIsTrgfVWh",
    "outputId": "efb06f76-2775-4468-abaa-8308da6d2d9c"
   },
   "outputs": [
    {
     "data": {
      "text/html": [
       "<div>\n",
       "<style scoped>\n",
       "    .dataframe tbody tr th:only-of-type {\n",
       "        vertical-align: middle;\n",
       "    }\n",
       "\n",
       "    .dataframe tbody tr th {\n",
       "        vertical-align: top;\n",
       "    }\n",
       "\n",
       "    .dataframe thead th {\n",
       "        text-align: right;\n",
       "    }\n",
       "</style>\n",
       "<table border=\"1\" class=\"dataframe\">\n",
       "  <thead>\n",
       "    <tr style=\"text-align: right;\">\n",
       "      <th></th>\n",
       "      <th>id</th>\n",
       "      <th>keyword</th>\n",
       "      <th>location</th>\n",
       "      <th>text</th>\n",
       "      <th>target</th>\n",
       "    </tr>\n",
       "  </thead>\n",
       "  <tbody>\n",
       "    <tr>\n",
       "      <th>100</th>\n",
       "      <td>144</td>\n",
       "      <td>accident</td>\n",
       "      <td>UK</td>\n",
       "      <td>.@NorwayMFA #Bahrain police had previously die...</td>\n",
       "      <td>1.0</td>\n",
       "    </tr>\n",
       "    <tr>\n",
       "      <th>101</th>\n",
       "      <td>145</td>\n",
       "      <td>accident</td>\n",
       "      <td>Nairobi, Kenya</td>\n",
       "      <td>I still have not heard Church Leaders of Kenya...</td>\n",
       "      <td>0.0</td>\n",
       "    </tr>\n",
       "    <tr>\n",
       "      <th>102</th>\n",
       "      <td>146</td>\n",
       "      <td>aftershock</td>\n",
       "      <td>Instagram - @heyimginog</td>\n",
       "      <td>@afterShock_DeLo scuf ps live and the game... cya</td>\n",
       "      <td>0.0</td>\n",
       "    </tr>\n",
       "    <tr>\n",
       "      <th>103</th>\n",
       "      <td>149</td>\n",
       "      <td>aftershock</td>\n",
       "      <td>304</td>\n",
       "      <td>'The man who can drive himself further once th...</td>\n",
       "      <td>0.0</td>\n",
       "    </tr>\n",
       "    <tr>\n",
       "      <th>104</th>\n",
       "      <td>151</td>\n",
       "      <td>aftershock</td>\n",
       "      <td>Switzerland</td>\n",
       "      <td>320 [IR] ICEMOON [AFTERSHOCK] | http://t.co/yN...</td>\n",
       "      <td>0.0</td>\n",
       "    </tr>\n",
       "    <tr>\n",
       "      <th>105</th>\n",
       "      <td>153</td>\n",
       "      <td>aftershock</td>\n",
       "      <td>304</td>\n",
       "      <td>'There is no victory at bargain basement price...</td>\n",
       "      <td>0.0</td>\n",
       "    </tr>\n",
       "    <tr>\n",
       "      <th>106</th>\n",
       "      <td>156</td>\n",
       "      <td>aftershock</td>\n",
       "      <td>US</td>\n",
       "      <td>320 [IR] ICEMOON [AFTERSHOCK] | http://t.co/vA...</td>\n",
       "      <td>0.0</td>\n",
       "    </tr>\n",
       "    <tr>\n",
       "      <th>107</th>\n",
       "      <td>157</td>\n",
       "      <td>aftershock</td>\n",
       "      <td>304</td>\n",
       "      <td>'Nobody remembers who came in second.' Charles...</td>\n",
       "      <td>0.0</td>\n",
       "    </tr>\n",
       "    <tr>\n",
       "      <th>108</th>\n",
       "      <td>158</td>\n",
       "      <td>aftershock</td>\n",
       "      <td>Instagram - @heyimginog</td>\n",
       "      <td>@afterShock_DeLo im speaking from someone that...</td>\n",
       "      <td>0.0</td>\n",
       "    </tr>\n",
       "    <tr>\n",
       "      <th>109</th>\n",
       "      <td>159</td>\n",
       "      <td>aftershock</td>\n",
       "      <td>304</td>\n",
       "      <td>'The harder the conflict the more glorious the...</td>\n",
       "      <td>0.0</td>\n",
       "    </tr>\n",
       "    <tr>\n",
       "      <th>110</th>\n",
       "      <td>160</td>\n",
       "      <td>aftershock</td>\n",
       "      <td>NaN</td>\n",
       "      <td>#GrowingUpSpoiled going clay pigeon shooting a...</td>\n",
       "      <td>0.0</td>\n",
       "    </tr>\n",
       "    <tr>\n",
       "      <th>111</th>\n",
       "      <td>161</td>\n",
       "      <td>aftershock</td>\n",
       "      <td>Somewhere Only We Know ?</td>\n",
       "      <td>So i guess no one actually wants any free Afte...</td>\n",
       "      <td>0.0</td>\n",
       "    </tr>\n",
       "    <tr>\n",
       "      <th>112</th>\n",
       "      <td>162</td>\n",
       "      <td>aftershock</td>\n",
       "      <td>NaN</td>\n",
       "      <td>Aftershock was the most terrifying best roller...</td>\n",
       "      <td>0.0</td>\n",
       "    </tr>\n",
       "    <tr>\n",
       "      <th>113</th>\n",
       "      <td>163</td>\n",
       "      <td>aftershock</td>\n",
       "      <td>Belgium</td>\n",
       "      <td>Aftershock https://t.co/xMWODFMtUI</td>\n",
       "      <td>0.0</td>\n",
       "    </tr>\n",
       "    <tr>\n",
       "      <th>114</th>\n",
       "      <td>164</td>\n",
       "      <td>aftershock</td>\n",
       "      <td>Switzerland</td>\n",
       "      <td>320 [IR] ICEMOON [AFTERSHOCK] | http://t.co/M4...</td>\n",
       "      <td>0.0</td>\n",
       "    </tr>\n",
       "    <tr>\n",
       "      <th>115</th>\n",
       "      <td>165</td>\n",
       "      <td>aftershock</td>\n",
       "      <td>US</td>\n",
       "      <td>320 [IR] ICEMOON [AFTERSHOCK] | http://t.co/vA...</td>\n",
       "      <td>0.0</td>\n",
       "    </tr>\n",
       "    <tr>\n",
       "      <th>116</th>\n",
       "      <td>168</td>\n",
       "      <td>aftershock</td>\n",
       "      <td>NaN</td>\n",
       "      <td>320 [IR] ICEMOON [AFTERSHOCK] | http://t.co/e1...</td>\n",
       "      <td>0.0</td>\n",
       "    </tr>\n",
       "  </tbody>\n",
       "</table>\n",
       "</div>"
      ],
      "text/plain": [
       "      id     keyword                  location  \\\n",
       "100  144    accident                        UK   \n",
       "101  145    accident            Nairobi, Kenya   \n",
       "102  146  aftershock  Instagram - @heyimginog    \n",
       "103  149  aftershock                       304   \n",
       "104  151  aftershock               Switzerland   \n",
       "105  153  aftershock                       304   \n",
       "106  156  aftershock                        US   \n",
       "107  157  aftershock                       304   \n",
       "108  158  aftershock  Instagram - @heyimginog    \n",
       "109  159  aftershock                       304   \n",
       "110  160  aftershock                       NaN   \n",
       "111  161  aftershock  Somewhere Only We Know ?   \n",
       "112  162  aftershock                       NaN   \n",
       "113  163  aftershock                   Belgium   \n",
       "114  164  aftershock               Switzerland   \n",
       "115  165  aftershock                        US   \n",
       "116  168  aftershock                       NaN   \n",
       "\n",
       "                                                  text  target  \n",
       "100  .@NorwayMFA #Bahrain police had previously die...     1.0  \n",
       "101  I still have not heard Church Leaders of Kenya...     0.0  \n",
       "102  @afterShock_DeLo scuf ps live and the game... cya     0.0  \n",
       "103  'The man who can drive himself further once th...     0.0  \n",
       "104  320 [IR] ICEMOON [AFTERSHOCK] | http://t.co/yN...     0.0  \n",
       "105  'There is no victory at bargain basement price...     0.0  \n",
       "106  320 [IR] ICEMOON [AFTERSHOCK] | http://t.co/vA...     0.0  \n",
       "107  'Nobody remembers who came in second.' Charles...     0.0  \n",
       "108  @afterShock_DeLo im speaking from someone that...     0.0  \n",
       "109  'The harder the conflict the more glorious the...     0.0  \n",
       "110  #GrowingUpSpoiled going clay pigeon shooting a...     0.0  \n",
       "111  So i guess no one actually wants any free Afte...     0.0  \n",
       "112  Aftershock was the most terrifying best roller...     0.0  \n",
       "113                 Aftershock https://t.co/xMWODFMtUI     0.0  \n",
       "114  320 [IR] ICEMOON [AFTERSHOCK] | http://t.co/M4...     0.0  \n",
       "115  320 [IR] ICEMOON [AFTERSHOCK] | http://t.co/vA...     0.0  \n",
       "116  320 [IR] ICEMOON [AFTERSHOCK] | http://t.co/e1...     0.0  "
      ]
     },
     "execution_count": 19,
     "metadata": {
      "tags": []
     },
     "output_type": "execute_result"
    }
   ],
   "source": [
    "data.loc[100:116]"
   ]
  },
  {
   "cell_type": "code",
   "execution_count": 20,
   "metadata": {
    "colab": {
     "base_uri": "https://localhost:8080/",
     "height": 350
    },
    "executionInfo": {
     "elapsed": 109,
     "status": "ok",
     "timestamp": 1629195471004,
     "user": {
      "displayName": "Omkar Jadhav",
      "photoUrl": "https://lh3.googleusercontent.com/a-/AOh14GhguANC4TZmTjgMu2fbtYP9pYtfeYWByKltGROoiQ=s64",
      "userId": "12015773761906114905"
     },
     "user_tz": -330
    },
    "id": "sMlnsJeF98x3",
    "outputId": "a441fdf4-94ae-4f38-a536-a2bed7400774"
   },
   "outputs": [
    {
     "name": "stderr",
     "output_type": "stream",
     "text": [
      "/usr/local/lib/python3.7/dist-packages/seaborn/_decorators.py:43: FutureWarning: Pass the following variable as a keyword arg: x. From version 0.12, the only valid positional argument will be `data`, and passing other arguments without an explicit keyword will result in an error or misinterpretation.\n",
      "  FutureWarning\n"
     ]
    },
    {
     "data": {
      "text/plain": [
       "<matplotlib.axes._subplots.AxesSubplot at 0x7f7faeee98d0>"
      ]
     },
     "execution_count": 20,
     "metadata": {
      "tags": []
     },
     "output_type": "execute_result"
    },
    {
     "data": {
      "image/png": "[encoded data removed]",
      "text/plain": [
       "<Figure size 432x288 with 1 Axes>"
      ]
     },
     "metadata": {
      "tags": []
     },
     "output_type": "display_data"
    }
   ],
   "source": [
    "sns.countplot(data['target'])"
   ]
  },
  {
   "cell_type": "code",
   "execution_count": 21,
   "metadata": {
    "colab": {
     "base_uri": "https://localhost:8080/"
    },
    "executionInfo": {
     "elapsed": 92,
     "status": "ok",
     "timestamp": 1629195471005,
     "user": {
      "displayName": "Omkar Jadhav",
      "photoUrl": "https://lh3.googleusercontent.com/a-/AOh14GhguANC4TZmTjgMu2fbtYP9pYtfeYWByKltGROoiQ=s64",
      "userId": "12015773761906114905"
     },
     "user_tz": -330
    },
    "id": "xxJ54O6V-FCH",
    "outputId": "37ca5ec2-0e0a-4b01-bf1d-6bbf1b48359d"
   },
   "outputs": [
    {
     "name": "stdout",
     "output_type": "stream",
     "text": [
      "0.0    4342\n",
      "1.0    3271\n",
      "Name: target, dtype: int64\n",
      "0.0    0.57034\n",
      "1.0    0.42966\n",
      "Name: target, dtype: float64\n"
     ]
    }
   ],
   "source": [
    "print(data['target'].value_counts())\n",
    "print(data['target'].value_counts(normalize=True))"
   ]
  },
  {
   "cell_type": "code",
   "execution_count": 22,
   "metadata": {
    "colab": {
     "base_uri": "https://localhost:8080/"
    },
    "executionInfo": {
     "elapsed": 87,
     "status": "ok",
     "timestamp": 1629195471006,
     "user": {
      "displayName": "Omkar Jadhav",
      "photoUrl": "https://lh3.googleusercontent.com/a-/AOh14GhguANC4TZmTjgMu2fbtYP9pYtfeYWByKltGROoiQ=s64",
      "userId": "12015773761906114905"
     },
     "user_tz": -330
    },
    "id": "j1BqlaFH-UVx",
    "outputId": "f7707a81-e820-4027-ba0d-ab6ee0dfdffc"
   },
   "outputs": [
    {
     "data": {
      "text/plain": [
       "id             0\n",
       "keyword       87\n",
       "location    3638\n",
       "text           0\n",
       "target      3263\n",
       "dtype: int64"
      ]
     },
     "execution_count": 22,
     "metadata": {
      "tags": []
     },
     "output_type": "execute_result"
    }
   ],
   "source": [
    "data.isnull().sum()"
   ]
  },
  {
   "cell_type": "code",
   "execution_count": 23,
   "metadata": {
    "colab": {
     "base_uri": "https://localhost:8080/"
    },
    "executionInfo": {
     "elapsed": 84,
     "status": "ok",
     "timestamp": 1629195471007,
     "user": {
      "displayName": "Omkar Jadhav",
      "photoUrl": "https://lh3.googleusercontent.com/a-/AOh14GhguANC4TZmTjgMu2fbtYP9pYtfeYWByKltGROoiQ=s64",
      "userId": "12015773761906114905"
     },
     "user_tz": -330
    },
    "id": "7pb9KZ4jAy0o",
    "outputId": "61b8bdd2-820b-4c98-fde8-441aef3b0123"
   },
   "outputs": [
    {
     "name": "stdout",
     "output_type": "stream",
     "text": [
      "<class 'pandas.core.frame.DataFrame'>\n",
      "RangeIndex: 10876 entries, 0 to 10875\n",
      "Data columns (total 5 columns):\n",
      " #   Column    Non-Null Count  Dtype  \n",
      "---  ------    --------------  -----  \n",
      " 0   id        10876 non-null  int64  \n",
      " 1   keyword   10789 non-null  object \n",
      " 2   location  7238 non-null   object \n",
      " 3   text      10876 non-null  object \n",
      " 4   target    7613 non-null   float64\n",
      "dtypes: float64(1), int64(1), object(3)\n",
      "memory usage: 425.0+ KB\n"
     ]
    }
   ],
   "source": [
    "data.info()"
   ]
  },
  {
   "cell_type": "markdown",
   "metadata": {
    "id": "AAnZ4l-qRzjI"
   },
   "source": [
    "### Checking effectiveness of Keyword column"
   ]
  },
  {
   "cell_type": "code",
   "execution_count": 24,
   "metadata": {
    "executionInfo": {
     "elapsed": 80,
     "status": "ok",
     "timestamp": 1629195471009,
     "user": {
      "displayName": "Omkar Jadhav",
      "photoUrl": "https://lh3.googleusercontent.com/a-/AOh14GhguANC4TZmTjgMu2fbtYP9pYtfeYWByKltGROoiQ=s64",
      "userId": "12015773761906114905"
     },
     "user_tz": -330
    },
    "id": "0iYm6ugt-pCM"
   },
   "outputs": [],
   "source": [
    "#keyword_grp = data.groupby(['keyword']).agg({'id': 'count', 'target': 'sum'}).reset_index()"
   ]
  },
  {
   "cell_type": "code",
   "execution_count": 25,
   "metadata": {
    "executionInfo": {
     "elapsed": 82,
     "status": "ok",
     "timestamp": 1629195471011,
     "user": {
      "displayName": "Omkar Jadhav",
      "photoUrl": "https://lh3.googleusercontent.com/a-/AOh14GhguANC4TZmTjgMu2fbtYP9pYtfeYWByKltGROoiQ=s64",
      "userId": "12015773761906114905"
     },
     "user_tz": -330
    },
    "id": "TvqTnjVT-uQ0"
   },
   "outputs": [],
   "source": [
    "# keyword_grp.rename(columns={'id': 'keyword_count', 'target': 'target_count'}, inplace=True)\n",
    "# keyword_grp['effectiveness'] = keyword_grp['target_count']/keyword_grp['keyword_count']"
   ]
  },
  {
   "cell_type": "code",
   "execution_count": 26,
   "metadata": {
    "executionInfo": {
     "elapsed": 84,
     "status": "ok",
     "timestamp": 1629195471014,
     "user": {
      "displayName": "Omkar Jadhav",
      "photoUrl": "https://lh3.googleusercontent.com/a-/AOh14GhguANC4TZmTjgMu2fbtYP9pYtfeYWByKltGROoiQ=s64",
      "userId": "12015773761906114905"
     },
     "user_tz": -330
    },
    "id": "K4zI_WtVBLnK"
   },
   "outputs": [],
   "source": [
    "# keyword_grp.sort_values('effectiveness', ascending=False, inplace=True)"
   ]
  },
  {
   "cell_type": "code",
   "execution_count": 27,
   "metadata": {
    "executionInfo": {
     "elapsed": 84,
     "status": "ok",
     "timestamp": 1629195471015,
     "user": {
      "displayName": "Omkar Jadhav",
      "photoUrl": "https://lh3.googleusercontent.com/a-/AOh14GhguANC4TZmTjgMu2fbtYP9pYtfeYWByKltGROoiQ=s64",
      "userId": "12015773761906114905"
     },
     "user_tz": -330
    },
    "id": "LIN83YKEC_IN"
   },
   "outputs": [],
   "source": [
    "# keyword_grp.head(2)"
   ]
  },
  {
   "cell_type": "markdown",
   "metadata": {
    "id": "2TX6cOBiR3mC"
   },
   "source": [
    "### View random 10 tweets and their labels"
   ]
  },
  {
   "cell_type": "code",
   "execution_count": 28,
   "metadata": {
    "executionInfo": {
     "elapsed": 84,
     "status": "ok",
     "timestamp": 1629195471016,
     "user": {
      "displayName": "Omkar Jadhav",
      "photoUrl": "https://lh3.googleusercontent.com/a-/AOh14GhguANC4TZmTjgMu2fbtYP9pYtfeYWByKltGROoiQ=s64",
      "userId": "12015773761906114905"
     },
     "user_tz": -330
    },
    "id": "E63z9zdKD06Q"
   },
   "outputs": [],
   "source": [
    "# indx = np.random.randint(0, data.shape[0], 10)"
   ]
  },
  {
   "cell_type": "code",
   "execution_count": 29,
   "metadata": {
    "colab": {
     "base_uri": "https://localhost:8080/"
    },
    "executionInfo": {
     "elapsed": 85,
     "status": "ok",
     "timestamp": 1629195471017,
     "user": {
      "displayName": "Omkar Jadhav",
      "photoUrl": "https://lh3.googleusercontent.com/a-/AOh14GhguANC4TZmTjgMu2fbtYP9pYtfeYWByKltGROoiQ=s64",
      "userId": "12015773761906114905"
     },
     "user_tz": -330
    },
    "id": "cb-KvDYmQK07",
    "outputId": "1d581903-20ce-485f-886e-22220cf76bc7"
   },
   "outputs": [
    {
     "name": "stdout",
     "output_type": "stream",
     "text": [
      "tweet index:1238\n",
      "Tweet: square just let booty org write xv im sure we'd do just fine (buildings around me set on fire)\n",
      "Tweet label: 0.0\n",
      "----------------------------------------------------------------------------------------------------\n",
      "tweet index:10512\n",
      "Tweet: Idk if ithats thunder or people rolling in their trashcans ??????\n",
      "Tweet label: nan\n",
      "----------------------------------------------------------------------------------------------------\n",
      "tweet index:3769\n",
      "Tweet: In the words of Charlie Daniels 'Fire on the mountain run boys run.'Û_ https://t.co/fz1HAEj255\n",
      "Tweet label: 1.0\n",
      "----------------------------------------------------------------------------------------------------\n",
      "tweet index:5615\n",
      "Tweet: Turkish newlyweds donate wedding money - what a beautiful gesture! Still have faith in humanity. http://t.co/o1eNHjrkJd\n",
      "Tweet label: 0.0\n",
      "----------------------------------------------------------------------------------------------------\n",
      "tweet index:8523\n",
      "Tweet: For everyone that doesn't know Chris Prater was struck by a train this morning and pronounced dead on scene. Prayers to his family.\n",
      "Tweet label: nan\n",
      "----------------------------------------------------------------------------------------------------\n",
      "tweet index:8473\n",
      "Tweet: First time for everything! @ Coney Island Cyclone https://t.co/SdNT3Dhs3W\n",
      "Tweet label: nan\n",
      "----------------------------------------------------------------------------------------------------\n",
      "tweet index:5057\n",
      "Tweet: RaÌ¼l sends a message of condolence to Vietnam following natural disaster: On behalf of the Cuban government an... http://t.co/EmrZiCb004\n",
      "Tweet label: 1.0\n",
      "----------------------------------------------------------------------------------------------------\n",
      "tweet index:5316\n",
      "Tweet: An outbreak of Legionnaires' disease in New York has killed at least 8 people ÛÓ now officials think they've fo... http://t.co/7evyeLW4LC\n",
      "Tweet label: 1.0\n",
      "----------------------------------------------------------------------------------------------------\n",
      "tweet index:10001\n",
      "Tweet: ABC News The Latest: More Homes Razed by Northern California Wildfire ABC News The latest onÛ_ http://t.co/RruNs5rDz5\n",
      "Tweet label: nan\n",
      "----------------------------------------------------------------------------------------------------\n",
      "tweet index:3480\n",
      "Tweet: MORE--&gt;OSHA officers on siteinvestigating Noranda explosion -KFVS12 News Cape Girardeau Carbondale Poplar Bluff http://t.co/Pxyh7zo7vT\n",
      "Tweet label: 1.0\n",
      "----------------------------------------------------------------------------------------------------\n"
     ]
    }
   ],
   "source": [
    "indx = np.random.randint(0, data.shape[0], 10)\n",
    "for i in indx:\n",
    "  print(\"tweet index:{}\".format(i))\n",
    "  print(\"Tweet: {}\".format(data.loc[i, 'text']))\n",
    "  print(\"Tweet label: {}\".format(data.loc[i, 'target']))\n",
    "  print(\"-\"*100)"
   ]
  },
  {
   "cell_type": "markdown",
   "metadata": {
    "id": "lh0sB6cyXNc0"
   },
   "source": [
    "Most of the tweets flaged as disaster are containing atleast one or two words which semantically relates to disaster like outbreak, thunder, terrorist, flood, terrorism."
   ]
  },
  {
   "cell_type": "markdown",
   "metadata": {
    "id": "mwhELtUoYKqd"
   },
   "source": [
    "### Trying to identify whether there is relation between **disaster tweets** and **number of links in the tweets**"
   ]
  },
  {
   "cell_type": "markdown",
   "metadata": {
    "id": "K2qf1kjIYkAd"
   },
   "source": [
    "Using regex to identify hyperink"
   ]
  },
  {
   "cell_type": "code",
   "execution_count": 30,
   "metadata": {
    "executionInfo": {
     "elapsed": 81,
     "status": "ok",
     "timestamp": 1629195471020,
     "user": {
      "displayName": "Omkar Jadhav",
      "photoUrl": "https://lh3.googleusercontent.com/a-/AOh14GhguANC4TZmTjgMu2fbtYP9pYtfeYWByKltGROoiQ=s64",
      "userId": "12015773761906114905"
     },
     "user_tz": -330
    },
    "id": "pdHJR19XVsTx"
   },
   "outputs": [],
   "source": [
    "hyperlink_regex = r\"(?i)\\b((?:https?://|www\\d{0,3}[.]|[a-z0-9.\\-]+[.][a-z]{2,4}/)(?:[^\\s()<>]+|\\(([^\\s()<>]+|(\\([^\\s()<>]+\\)))*\\))+(?:\\(([^\\s()<>]+|(\\([^\\s()<>]+\\)))*\\)|[^\\s`!()\\[\\]{};:'\\\".,<>?«»“”‘’]))\""
   ]
  },
  {
   "cell_type": "code",
   "execution_count": 31,
   "metadata": {
    "executionInfo": {
     "elapsed": 81,
     "status": "ok",
     "timestamp": 1629195471021,
     "user": {
      "displayName": "Omkar Jadhav",
      "photoUrl": "https://lh3.googleusercontent.com/a-/AOh14GhguANC4TZmTjgMu2fbtYP9pYtfeYWByKltGROoiQ=s64",
      "userId": "12015773761906114905"
     },
     "user_tz": -330
    },
    "id": "vcJnJ0qTTHZV"
   },
   "outputs": [],
   "source": [
    "data['hyperlink'] = data['text'].apply(lambda x : countnonoverlappingrematches(hyperlink_regex, x))"
   ]
  },
  {
   "cell_type": "code",
   "execution_count": 32,
   "metadata": {
    "colab": {
     "base_uri": "https://localhost:8080/",
     "height": 204
    },
    "executionInfo": {
     "elapsed": 81,
     "status": "ok",
     "timestamp": 1629195471022,
     "user": {
      "displayName": "Omkar Jadhav",
      "photoUrl": "https://lh3.googleusercontent.com/a-/AOh14GhguANC4TZmTjgMu2fbtYP9pYtfeYWByKltGROoiQ=s64",
      "userId": "12015773761906114905"
     },
     "user_tz": -330
    },
    "id": "L5FF9gdcU9KR",
    "outputId": "95e47504-63e7-4ba1-fba0-79dcef1bfe77"
   },
   "outputs": [
    {
     "data": {
      "text/html": [
       "<div>\n",
       "<style scoped>\n",
       "    .dataframe tbody tr th:only-of-type {\n",
       "        vertical-align: middle;\n",
       "    }\n",
       "\n",
       "    .dataframe tbody tr th {\n",
       "        vertical-align: top;\n",
       "    }\n",
       "\n",
       "    .dataframe thead th {\n",
       "        text-align: right;\n",
       "    }\n",
       "</style>\n",
       "<table border=\"1\" class=\"dataframe\">\n",
       "  <thead>\n",
       "    <tr style=\"text-align: right;\">\n",
       "      <th></th>\n",
       "      <th>id</th>\n",
       "      <th>keyword</th>\n",
       "      <th>location</th>\n",
       "      <th>text</th>\n",
       "      <th>target</th>\n",
       "      <th>hyperlink</th>\n",
       "    </tr>\n",
       "  </thead>\n",
       "  <tbody>\n",
       "    <tr>\n",
       "      <th>10871</th>\n",
       "      <td>10861</td>\n",
       "      <td>NaN</td>\n",
       "      <td>NaN</td>\n",
       "      <td>EARTHQUAKE SAFETY LOS ANGELES ÛÒ SAFETY FASTE...</td>\n",
       "      <td>NaN</td>\n",
       "      <td>0</td>\n",
       "    </tr>\n",
       "    <tr>\n",
       "      <th>10872</th>\n",
       "      <td>10865</td>\n",
       "      <td>NaN</td>\n",
       "      <td>NaN</td>\n",
       "      <td>Storm in RI worse than last hurricane. My city...</td>\n",
       "      <td>NaN</td>\n",
       "      <td>0</td>\n",
       "    </tr>\n",
       "    <tr>\n",
       "      <th>10873</th>\n",
       "      <td>10868</td>\n",
       "      <td>NaN</td>\n",
       "      <td>NaN</td>\n",
       "      <td>Green Line derailment in Chicago http://t.co/U...</td>\n",
       "      <td>NaN</td>\n",
       "      <td>1</td>\n",
       "    </tr>\n",
       "    <tr>\n",
       "      <th>10874</th>\n",
       "      <td>10874</td>\n",
       "      <td>NaN</td>\n",
       "      <td>NaN</td>\n",
       "      <td>MEG issues Hazardous Weather Outlook (HWO) htt...</td>\n",
       "      <td>NaN</td>\n",
       "      <td>1</td>\n",
       "    </tr>\n",
       "    <tr>\n",
       "      <th>10875</th>\n",
       "      <td>10875</td>\n",
       "      <td>NaN</td>\n",
       "      <td>NaN</td>\n",
       "      <td>#CityofCalgary has activated its Municipal Eme...</td>\n",
       "      <td>NaN</td>\n",
       "      <td>0</td>\n",
       "    </tr>\n",
       "  </tbody>\n",
       "</table>\n",
       "</div>"
      ],
      "text/plain": [
       "          id keyword location  \\\n",
       "10871  10861     NaN      NaN   \n",
       "10872  10865     NaN      NaN   \n",
       "10873  10868     NaN      NaN   \n",
       "10874  10874     NaN      NaN   \n",
       "10875  10875     NaN      NaN   \n",
       "\n",
       "                                                    text  target  hyperlink  \n",
       "10871  EARTHQUAKE SAFETY LOS ANGELES ÛÒ SAFETY FASTE...     NaN          0  \n",
       "10872  Storm in RI worse than last hurricane. My city...     NaN          0  \n",
       "10873  Green Line derailment in Chicago http://t.co/U...     NaN          1  \n",
       "10874  MEG issues Hazardous Weather Outlook (HWO) htt...     NaN          1  \n",
       "10875  #CityofCalgary has activated its Municipal Eme...     NaN          0  "
      ]
     },
     "execution_count": 32,
     "metadata": {
      "tags": []
     },
     "output_type": "execute_result"
    }
   ],
   "source": [
    "data.tail()"
   ]
  },
  {
   "cell_type": "code",
   "execution_count": 33,
   "metadata": {
    "colab": {
     "base_uri": "https://localhost:8080/",
     "height": 350
    },
    "executionInfo": {
     "elapsed": 83,
     "status": "ok",
     "timestamp": 1629195471026,
     "user": {
      "displayName": "Omkar Jadhav",
      "photoUrl": "https://lh3.googleusercontent.com/a-/AOh14GhguANC4TZmTjgMu2fbtYP9pYtfeYWByKltGROoiQ=s64",
      "userId": "12015773761906114905"
     },
     "user_tz": -330
    },
    "id": "acrwju_HU-Wy",
    "outputId": "d4e3f38e-00d4-43d5-f60c-cd5c60d2c155"
   },
   "outputs": [
    {
     "name": "stderr",
     "output_type": "stream",
     "text": [
      "/usr/local/lib/python3.7/dist-packages/seaborn/_decorators.py:43: FutureWarning: Pass the following variable as a keyword arg: x. From version 0.12, the only valid positional argument will be `data`, and passing other arguments without an explicit keyword will result in an error or misinterpretation.\n",
      "  FutureWarning\n"
     ]
    },
    {
     "data": {
      "text/plain": [
       "<matplotlib.axes._subplots.AxesSubplot at 0x7f7faed4b110>"
      ]
     },
     "execution_count": 33,
     "metadata": {
      "tags": []
     },
     "output_type": "execute_result"
    },
    {
     "data": {
      "image/png": "[encoded data removed]",
      "text/plain": [
       "<Figure size 432x288 with 1 Axes>"
      ]
     },
     "metadata": {
      "tags": []
     },
     "output_type": "display_data"
    }
   ],
   "source": [
    "sns.countplot(data['target'], hue=data['hyperlink'])"
   ]
  },
  {
   "cell_type": "code",
   "execution_count": 34,
   "metadata": {
    "executionInfo": {
     "elapsed": 77,
     "status": "ok",
     "timestamp": 1629195471027,
     "user": {
      "displayName": "Omkar Jadhav",
      "photoUrl": "https://lh3.googleusercontent.com/a-/AOh14GhguANC4TZmTjgMu2fbtYP9pYtfeYWByKltGROoiQ=s64",
      "userId": "12015773761906114905"
     },
     "user_tz": -330
    },
    "id": "1V3uhPkLY5aw"
   },
   "outputs": [],
   "source": [
    "#hyperlink = data.groupby(['target', 'hyperlink']).size().reset_index()\n",
    "hyperlink = data.groupby(['target'])['hyperlink'].sum().reset_index()"
   ]
  },
  {
   "cell_type": "code",
   "execution_count": 35,
   "metadata": {
    "colab": {
     "base_uri": "https://localhost:8080/",
     "height": 111
    },
    "executionInfo": {
     "elapsed": 77,
     "status": "ok",
     "timestamp": 1629195471028,
     "user": {
      "displayName": "Omkar Jadhav",
      "photoUrl": "https://lh3.googleusercontent.com/a-/AOh14GhguANC4TZmTjgMu2fbtYP9pYtfeYWByKltGROoiQ=s64",
      "userId": "12015773761906114905"
     },
     "user_tz": -330
    },
    "id": "KfsIJfCRZTcb",
    "outputId": "aa858845-f00b-4d62-8874-121dc4cc3b13"
   },
   "outputs": [
    {
     "data": {
      "text/html": [
       "<div>\n",
       "<style scoped>\n",
       "    .dataframe tbody tr th:only-of-type {\n",
       "        vertical-align: middle;\n",
       "    }\n",
       "\n",
       "    .dataframe tbody tr th {\n",
       "        vertical-align: top;\n",
       "    }\n",
       "\n",
       "    .dataframe thead th {\n",
       "        text-align: right;\n",
       "    }\n",
       "</style>\n",
       "<table border=\"1\" class=\"dataframe\">\n",
       "  <thead>\n",
       "    <tr style=\"text-align: right;\">\n",
       "      <th></th>\n",
       "      <th>target</th>\n",
       "      <th>hyperlink</th>\n",
       "    </tr>\n",
       "  </thead>\n",
       "  <tbody>\n",
       "    <tr>\n",
       "      <th>0</th>\n",
       "      <td>0.0</td>\n",
       "      <td>2204</td>\n",
       "    </tr>\n",
       "    <tr>\n",
       "      <th>1</th>\n",
       "      <td>1.0</td>\n",
       "      <td>2520</td>\n",
       "    </tr>\n",
       "  </tbody>\n",
       "</table>\n",
       "</div>"
      ],
      "text/plain": [
       "   target  hyperlink\n",
       "0     0.0       2204\n",
       "1     1.0       2520"
      ]
     },
     "execution_count": 35,
     "metadata": {
      "tags": []
     },
     "output_type": "execute_result"
    }
   ],
   "source": [
    "hyperlink"
   ]
  },
  {
   "cell_type": "markdown",
   "metadata": {
    "id": "7iZApHtgaRTl"
   },
   "source": [
    "Disaster tweets are having more number of links compare to non-disaster tweets which does makes sense reason being people tend to attach video of natural calamities or another footage in order to make the tweet more factual"
   ]
  },
  {
   "cell_type": "markdown",
   "metadata": {
    "id": "SfpgaqjtbdDs"
   },
   "source": [
    "### Preprocessing the text now!"
   ]
  },
  {
   "cell_type": "code",
   "execution_count": 36,
   "metadata": {
    "executionInfo": {
     "elapsed": 78,
     "status": "ok",
     "timestamp": 1629195471030,
     "user": {
      "displayName": "Omkar Jadhav",
      "photoUrl": "https://lh3.googleusercontent.com/a-/AOh14GhguANC4TZmTjgMu2fbtYP9pYtfeYWByKltGROoiQ=s64",
      "userId": "12015773761906114905"
     },
     "user_tz": -330
    },
    "id": "A9BnRvu6CHby"
   },
   "outputs": [],
   "source": [
    "whitespace_pattern = re.compile(r'\\s+')"
   ]
  },
  {
   "cell_type": "code",
   "execution_count": 37,
   "metadata": {
    "executionInfo": {
     "elapsed": 80,
     "status": "ok",
     "timestamp": 1629195471033,
     "user": {
      "displayName": "Omkar Jadhav",
      "photoUrl": "https://lh3.googleusercontent.com/a-/AOh14GhguANC4TZmTjgMu2fbtYP9pYtfeYWByKltGROoiQ=s64",
      "userId": "12015773761906114905"
     },
     "user_tz": -330
    },
    "id": "Rnv3-_f4ZWQg"
   },
   "outputs": [],
   "source": [
    "def clean_text(text, hyperlink_regex):\n",
    "  text = re.sub(hyperlink_regex, '', text)\n",
    "  lower_text = str(text).lower()\n",
    "  # text = contractions.fix(lower_text)\n",
    "  return lower_text\n",
    "\n",
    "def get_tokens(text):\n",
    "  tokens = tokenize(text)\n",
    "  tokens_wosw = remove_stopwords(tokens)\n",
    "  tokens_wosmallwords = remove_smallwords(tokens_wosw)\n",
    "  tweet = [lemmatizer.lemmatize(word, wordnet_tagging([word])) for word in tokens_wosmallwords]\n",
    "  tweet = ' '.join(tweet)\n",
    "  return tweet\n"
   ]
  },
  {
   "cell_type": "code",
   "execution_count": 38,
   "metadata": {
    "executionInfo": {
     "elapsed": 79,
     "status": "ok",
     "timestamp": 1629195471033,
     "user": {
      "displayName": "Omkar Jadhav",
      "photoUrl": "https://lh3.googleusercontent.com/a-/AOh14GhguANC4TZmTjgMu2fbtYP9pYtfeYWByKltGROoiQ=s64",
      "userId": "12015773761906114905"
     },
     "user_tz": -330
    },
    "id": "8-yMRM6XY3_Y"
   },
   "outputs": [],
   "source": [
    "data['keyword'].fillna('', inplace=True)"
   ]
  },
  {
   "cell_type": "code",
   "execution_count": 39,
   "metadata": {
    "executionInfo": {
     "elapsed": 4095,
     "status": "ok",
     "timestamp": 1629195475050,
     "user": {
      "displayName": "Omkar Jadhav",
      "photoUrl": "https://lh3.googleusercontent.com/a-/AOh14GhguANC4TZmTjgMu2fbtYP9pYtfeYWByKltGROoiQ=s64",
      "userId": "12015773761906114905"
     },
     "user_tz": -330
    },
    "id": "LFtEWInkAplw"
   },
   "outputs": [],
   "source": [
    "data['clean_keyword'] = data['keyword'].apply(lambda x : clean_text(x, hyperlink_regex))\n",
    "data['clean_keyword'] = data['clean_keyword'].str.replace(r'[^a-zA-Z]',' ')\n",
    "data['clean_keyword'] = data['clean_keyword'].apply(lambda x : get_tokens(x))"
   ]
  },
  {
   "cell_type": "code",
   "execution_count": 40,
   "metadata": {
    "executionInfo": {
     "elapsed": 15645,
     "status": "ok",
     "timestamp": 1629195490682,
     "user": {
      "displayName": "Omkar Jadhav",
      "photoUrl": "https://lh3.googleusercontent.com/a-/AOh14GhguANC4TZmTjgMu2fbtYP9pYtfeYWByKltGROoiQ=s64",
      "userId": "12015773761906114905"
     },
     "user_tz": -330
    },
    "id": "kCTHumjxKPbo"
   },
   "outputs": [],
   "source": [
    "data['clean_text'] = data['text'].apply(lambda x : clean_text(x, hyperlink_regex))\n",
    "data['clean_text'] = data['clean_text'].str.replace(r'[^a-zA-Z]',' ')\n",
    "data['clean_text'] = data['clean_text'].apply(lambda x : get_tokens(x))"
   ]
  },
  {
   "cell_type": "code",
   "execution_count": 41,
   "metadata": {
    "executionInfo": {
     "elapsed": 72,
     "status": "ok",
     "timestamp": 1629195490683,
     "user": {
      "displayName": "Omkar Jadhav",
      "photoUrl": "https://lh3.googleusercontent.com/a-/AOh14GhguANC4TZmTjgMu2fbtYP9pYtfeYWByKltGROoiQ=s64",
      "userId": "12015773761906114905"
     },
     "user_tz": -330
    },
    "id": "CkJrw5GKZzZz"
   },
   "outputs": [],
   "source": [
    "# dummy = {'user': ['user1', 'user2', 'user3'],\n",
    "#          'message': [\"Nobody remembers who came in second\", \"Aftershock was the most terrifying best rollercoaster ride I ever rode\",\n",
    "#                      \"Remembering that you are going to die is the worst feeling\"]}\n",
    "# dummy = pd.DataFrame(dummy)                     \n",
    "# dummy['clean_text'] = dummy['message'].apply(lambda x : clean_text(x, hyperlink_regex))\n",
    "# dummy['clean_text'] = dummy['clean_text'].str.replace(r'[^a-zA-Z]',' ')\n",
    "# dummy['clean_text'] = dummy['clean_text'].apply(lambda x : get_tokens(x))"
   ]
  },
  {
   "cell_type": "code",
   "execution_count": 42,
   "metadata": {
    "colab": {
     "base_uri": "https://localhost:8080/"
    },
    "executionInfo": {
     "elapsed": 70,
     "status": "ok",
     "timestamp": 1629195490684,
     "user": {
      "displayName": "Omkar Jadhav",
      "photoUrl": "https://lh3.googleusercontent.com/a-/AOh14GhguANC4TZmTjgMu2fbtYP9pYtfeYWByKltGROoiQ=s64",
      "userId": "12015773761906114905"
     },
     "user_tz": -330
    },
    "id": "VdyMwFE7aYxJ",
    "outputId": "7a00c765-65be-4c32-beec-365df367ca2c"
   },
   "outputs": [
    {
     "data": {
      "text/plain": [
       "Index(['id', 'keyword', 'location', 'text', 'target', 'hyperlink',\n",
       "       'clean_keyword', 'clean_text'],\n",
       "      dtype='object')"
      ]
     },
     "execution_count": 42,
     "metadata": {
      "tags": []
     },
     "output_type": "execute_result"
    }
   ],
   "source": [
    "data.columns"
   ]
  },
  {
   "cell_type": "code",
   "execution_count": 43,
   "metadata": {
    "executionInfo": {
     "elapsed": 63,
     "status": "ok",
     "timestamp": 1629195490685,
     "user": {
      "displayName": "Omkar Jadhav",
      "photoUrl": "https://lh3.googleusercontent.com/a-/AOh14GhguANC4TZmTjgMu2fbtYP9pYtfeYWByKltGROoiQ=s64",
      "userId": "12015773761906114905"
     },
     "user_tz": -330
    },
    "id": "S4Y2JJomadMp"
   },
   "outputs": [],
   "source": [
    "data.drop(['keyword', 'location', 'text', 'clean_keyword'], axis=1, inplace=True)"
   ]
  },
  {
   "cell_type": "code",
   "execution_count": 44,
   "metadata": {
    "colab": {
     "base_uri": "https://localhost:8080/"
    },
    "executionInfo": {
     "elapsed": 64,
     "status": "ok",
     "timestamp": 1629195490687,
     "user": {
      "displayName": "Omkar Jadhav",
      "photoUrl": "https://lh3.googleusercontent.com/a-/AOh14GhguANC4TZmTjgMu2fbtYP9pYtfeYWByKltGROoiQ=s64",
      "userId": "12015773761906114905"
     },
     "user_tz": -330
    },
    "id": "LEOPzmZ0anQU",
    "outputId": "ab3a9baf-c470-4743-8f4b-1b19bf8a62dc"
   },
   "outputs": [
    {
     "data": {
      "text/plain": [
       "(10876, 4)"
      ]
     },
     "execution_count": 44,
     "metadata": {
      "tags": []
     },
     "output_type": "execute_result"
    }
   ],
   "source": [
    "data.shape"
   ]
  },
  {
   "cell_type": "markdown",
   "metadata": {
    "id": "WP5GwPbAcND3"
   },
   "source": [
    "### Applying TFiDF vectorizer"
   ]
  },
  {
   "cell_type": "code",
   "execution_count": 45,
   "metadata": {
    "executionInfo": {
     "elapsed": 56,
     "status": "ok",
     "timestamp": 1629195490688,
     "user": {
      "displayName": "Omkar Jadhav",
      "photoUrl": "https://lh3.googleusercontent.com/a-/AOh14GhguANC4TZmTjgMu2fbtYP9pYtfeYWByKltGROoiQ=s64",
      "userId": "12015773761906114905"
     },
     "user_tz": -330
    },
    "id": "cQ_ik8Rgb08C"
   },
   "outputs": [],
   "source": [
    "tfidf = TfidfVectorizer()\n",
    "X = tfidf.fit_transform(data['clean_text'])"
   ]
  },
  {
   "cell_type": "code",
   "execution_count": 46,
   "metadata": {
    "executionInfo": {
     "elapsed": 678,
     "status": "ok",
     "timestamp": 1629195491311,
     "user": {
      "displayName": "Omkar Jadhav",
      "photoUrl": "https://lh3.googleusercontent.com/a-/AOh14GhguANC4TZmTjgMu2fbtYP9pYtfeYWByKltGROoiQ=s64",
      "userId": "12015773761906114905"
     },
     "user_tz": -330
    },
    "id": "kLl-2P34gddb"
   },
   "outputs": [],
   "source": [
    "X_array = pd.DataFrame(X.toarray())"
   ]
  },
  {
   "cell_type": "code",
   "execution_count": 47,
   "metadata": {
    "executionInfo": {
     "elapsed": 6775,
     "status": "ok",
     "timestamp": 1629195498079,
     "user": {
      "displayName": "Omkar Jadhav",
      "photoUrl": "https://lh3.googleusercontent.com/a-/AOh14GhguANC4TZmTjgMu2fbtYP9pYtfeYWByKltGROoiQ=s64",
      "userId": "12015773761906114905"
     },
     "user_tz": -330
    },
    "id": "cieJpunygu7-"
   },
   "outputs": [],
   "source": [
    "df = pd.concat([X_array, data[['id', 'target']]], axis=1)"
   ]
  },
  {
   "cell_type": "code",
   "execution_count": 48,
   "metadata": {
    "executionInfo": {
     "elapsed": 1643,
     "status": "ok",
     "timestamp": 1629195499708,
     "user": {
      "displayName": "Omkar Jadhav",
      "photoUrl": "https://lh3.googleusercontent.com/a-/AOh14GhguANC4TZmTjgMu2fbtYP9pYtfeYWByKltGROoiQ=s64",
      "userId": "12015773761906114905"
     },
     "user_tz": -330
    },
    "id": "7iaJ9rMaiQ5q"
   },
   "outputs": [],
   "source": [
    "train_df = df[~df['target'].isnull()]\n",
    "test_df = df[df['target'].isnull()]"
   ]
  },
  {
   "cell_type": "code",
   "execution_count": 49,
   "metadata": {
    "executionInfo": {
     "elapsed": 10,
     "status": "ok",
     "timestamp": 1629195499713,
     "user": {
      "displayName": "Omkar Jadhav",
      "photoUrl": "https://lh3.googleusercontent.com/a-/AOh14GhguANC4TZmTjgMu2fbtYP9pYtfeYWByKltGROoiQ=s64",
      "userId": "12015773761906114905"
     },
     "user_tz": -330
    },
    "id": "PoG_XpYNjRMN"
   },
   "outputs": [],
   "source": [
    "y_train = train_df['target']"
   ]
  },
  {
   "cell_type": "code",
   "execution_count": 50,
   "metadata": {
    "executionInfo": {
     "elapsed": 10,
     "status": "ok",
     "timestamp": 1629195499714,
     "user": {
      "displayName": "Omkar Jadhav",
      "photoUrl": "https://lh3.googleusercontent.com/a-/AOh14GhguANC4TZmTjgMu2fbtYP9pYtfeYWByKltGROoiQ=s64",
      "userId": "12015773761906114905"
     },
     "user_tz": -330
    },
    "id": "40TLoK4gc4Rr"
   },
   "outputs": [],
   "source": [
    "x_train = train_df.iloc[:, 0:17149]"
   ]
  },
  {
   "cell_type": "code",
   "execution_count": 51,
   "metadata": {
    "executionInfo": {
     "elapsed": 10,
     "status": "ok",
     "timestamp": 1629195499715,
     "user": {
      "displayName": "Omkar Jadhav",
      "photoUrl": "https://lh3.googleusercontent.com/a-/AOh14GhguANC4TZmTjgMu2fbtYP9pYtfeYWByKltGROoiQ=s64",
      "userId": "12015773761906114905"
     },
     "user_tz": -330
    },
    "id": "aFenVTwQme4f"
   },
   "outputs": [],
   "source": [
    "x_test = test_df.iloc[:, 0:17149]"
   ]
  },
  {
   "cell_type": "code",
   "execution_count": 52,
   "metadata": {
    "colab": {
     "base_uri": "https://localhost:8080/"
    },
    "executionInfo": {
     "elapsed": 5481,
     "status": "ok",
     "timestamp": 1629195505187,
     "user": {
      "displayName": "Omkar Jadhav",
      "photoUrl": "https://lh3.googleusercontent.com/a-/AOh14GhguANC4TZmTjgMu2fbtYP9pYtfeYWByKltGROoiQ=s64",
      "userId": "12015773761906114905"
     },
     "user_tz": -330
    },
    "id": "47Npc7zVdfen",
    "outputId": "93dc27ed-111b-4004-b949-1158b5bddb5a"
   },
   "outputs": [
    {
     "data": {
      "text/plain": [
       "LGBMClassifier(boosting_type='gbdt', class_weight=None, colsample_bytree=1.0,\n",
       "               importance_type='split', learning_rate=0.1, max_depth=-1,\n",
       "               min_child_samples=20, min_child_weight=0.001, min_split_gain=0.0,\n",
       "               n_estimators=100, n_jobs=-1, num_leaves=31, objective=None,\n",
       "               random_state=None, reg_alpha=0.0, reg_lambda=0.0, silent=True,\n",
       "               subsample=1.0, subsample_for_bin=200000, subsample_freq=0)"
      ]
     },
     "execution_count": 52,
     "metadata": {
      "tags": []
     },
     "output_type": "execute_result"
    }
   ],
   "source": [
    "classifier = lgb.LGBMClassifier()\n",
    "classifier.fit(x_train, y_train)"
   ]
  },
  {
   "cell_type": "code",
   "execution_count": 53,
   "metadata": {
    "executionInfo": {
     "elapsed": 714,
     "status": "ok",
     "timestamp": 1629195505883,
     "user": {
      "displayName": "Omkar Jadhav",
      "photoUrl": "https://lh3.googleusercontent.com/a-/AOh14GhguANC4TZmTjgMu2fbtYP9pYtfeYWByKltGROoiQ=s64",
      "userId": "12015773761906114905"
     },
     "user_tz": -330
    },
    "id": "I-QJw9NJdh0n"
   },
   "outputs": [],
   "source": [
    "y_pred = classifier.predict(x_test)\n",
    "# from sklearn.metrics import accuracy_score, classification_report, confusion_matrix\n",
    "# acc = accuracy_score(y_pred, y_test)\n",
    "# report = classification_report(y_test, y_pred)\n",
    "# print(report)\n",
    "# cm = confusion_matrix(y_pred, y_test)\n",
    "# sns.heatmap(cm, annot=True)\n",
    "# print(\"Accuracy of LightGBM Model:\", acc*100,\"%\")"
   ]
  },
  {
   "cell_type": "code",
   "execution_count": 54,
   "metadata": {
    "colab": {
     "base_uri": "https://localhost:8080/"
    },
    "executionInfo": {
     "elapsed": 397,
     "status": "ok",
     "timestamp": 1629196093317,
     "user": {
      "displayName": "Omkar Jadhav",
      "photoUrl": "https://lh3.googleusercontent.com/a-/AOh14GhguANC4TZmTjgMu2fbtYP9pYtfeYWByKltGROoiQ=s64",
      "userId": "12015773761906114905"
     },
     "user_tz": -330
    },
    "id": "sBv3zd9qdxD1",
    "outputId": "fd284999-9867-45ec-832c-5486619cf645"
   },
   "outputs": [
    {
     "data": {
      "text/plain": [
       "(3263,)"
      ]
     },
     "execution_count": 54,
     "metadata": {
      "tags": []
     },
     "output_type": "execute_result"
    }
   ],
   "source": [
    "y_pred.shape"
   ]
  },
  {
   "cell_type": "code",
   "execution_count": 55,
   "metadata": {
    "colab": {
     "base_uri": "https://localhost:8080/"
    },
    "executionInfo": {
     "elapsed": 378,
     "status": "ok",
     "timestamp": 1629196151879,
     "user": {
      "displayName": "Omkar Jadhav",
      "photoUrl": "https://lh3.googleusercontent.com/a-/AOh14GhguANC4TZmTjgMu2fbtYP9pYtfeYWByKltGROoiQ=s64",
      "userId": "12015773761906114905"
     },
     "user_tz": -330
    },
    "id": "EpjC47Qcp4N4",
    "outputId": "afb33c5f-1d61-46b2-ea2d-0fd75a65fcac"
   },
   "outputs": [
    {
     "data": {
      "text/plain": [
       "array([1., 1., 1., ..., 1., 1., 0.])"
      ]
     },
     "execution_count": 55,
     "metadata": {
      "tags": []
     },
     "output_type": "execute_result"
    }
   ],
   "source": [
    "y_pred"
   ]
  },
  {
   "cell_type": "code",
   "execution_count": 57,
   "metadata": {
    "executionInfo": {
     "elapsed": 385,
     "status": "ok",
     "timestamp": 1629196218984,
     "user": {
      "displayName": "Omkar Jadhav",
      "photoUrl": "https://lh3.googleusercontent.com/a-/AOh14GhguANC4TZmTjgMu2fbtYP9pYtfeYWByKltGROoiQ=s64",
      "userId": "12015773761906114905"
     },
     "user_tz": -330
    },
    "id": "YfKulvbeqGhi"
   },
   "outputs": [],
   "source": [
    "submission_file_path = '/content/drive/MyDrive/Kaggle/identify disaster tweets/sample_submission.csv'"
   ]
  },
  {
   "cell_type": "code",
   "execution_count": 58,
   "metadata": {
    "executionInfo": {
     "elapsed": 408,
     "status": "ok",
     "timestamp": 1629196234788,
     "user": {
      "displayName": "Omkar Jadhav",
      "photoUrl": "https://lh3.googleusercontent.com/a-/AOh14GhguANC4TZmTjgMu2fbtYP9pYtfeYWByKltGROoiQ=s64",
      "userId": "12015773761906114905"
     },
     "user_tz": -330
    },
    "id": "bIMvTnzBqVyd"
   },
   "outputs": [],
   "source": [
    "submission = pd.read_csv(submission_file_path)"
   ]
  },
  {
   "cell_type": "code",
   "execution_count": 60,
   "metadata": {
    "executionInfo": {
     "elapsed": 369,
     "status": "ok",
     "timestamp": 1629196353658,
     "user": {
      "displayName": "Omkar Jadhav",
      "photoUrl": "https://lh3.googleusercontent.com/a-/AOh14GhguANC4TZmTjgMu2fbtYP9pYtfeYWByKltGROoiQ=s64",
      "userId": "12015773761906114905"
     },
     "user_tz": -330
    },
    "id": "1yLR4ZW6qawR"
   },
   "outputs": [],
   "source": [
    "submission = pd.concat([submission, pd.DataFrame(y_pred)], axis=1)"
   ]
  },
  {
   "cell_type": "code",
   "execution_count": 61,
   "metadata": {
    "colab": {
     "base_uri": "https://localhost:8080/",
     "height": 204
    },
    "executionInfo": {
     "elapsed": 391,
     "status": "ok",
     "timestamp": 1629196360861,
     "user": {
      "displayName": "Omkar Jadhav",
      "photoUrl": "https://lh3.googleusercontent.com/a-/AOh14GhguANC4TZmTjgMu2fbtYP9pYtfeYWByKltGROoiQ=s64",
      "userId": "12015773761906114905"
     },
     "user_tz": -330
    },
    "id": "FFe7Ukywqhed",
    "outputId": "59cea179-3d88-4b44-be8e-4690df94d68c"
   },
   "outputs": [
    {
     "data": {
      "text/html": [
       "<div>\n",
       "<style scoped>\n",
       "    .dataframe tbody tr th:only-of-type {\n",
       "        vertical-align: middle;\n",
       "    }\n",
       "\n",
       "    .dataframe tbody tr th {\n",
       "        vertical-align: top;\n",
       "    }\n",
       "\n",
       "    .dataframe thead th {\n",
       "        text-align: right;\n",
       "    }\n",
       "</style>\n",
       "<table border=\"1\" class=\"dataframe\">\n",
       "  <thead>\n",
       "    <tr style=\"text-align: right;\">\n",
       "      <th></th>\n",
       "      <th>id</th>\n",
       "      <th>target</th>\n",
       "      <th>0</th>\n",
       "    </tr>\n",
       "  </thead>\n",
       "  <tbody>\n",
       "    <tr>\n",
       "      <th>0</th>\n",
       "      <td>0</td>\n",
       "      <td>0</td>\n",
       "      <td>1.0</td>\n",
       "    </tr>\n",
       "    <tr>\n",
       "      <th>1</th>\n",
       "      <td>2</td>\n",
       "      <td>0</td>\n",
       "      <td>1.0</td>\n",
       "    </tr>\n",
       "    <tr>\n",
       "      <th>2</th>\n",
       "      <td>3</td>\n",
       "      <td>0</td>\n",
       "      <td>1.0</td>\n",
       "    </tr>\n",
       "    <tr>\n",
       "      <th>3</th>\n",
       "      <td>9</td>\n",
       "      <td>0</td>\n",
       "      <td>1.0</td>\n",
       "    </tr>\n",
       "    <tr>\n",
       "      <th>4</th>\n",
       "      <td>11</td>\n",
       "      <td>0</td>\n",
       "      <td>1.0</td>\n",
       "    </tr>\n",
       "  </tbody>\n",
       "</table>\n",
       "</div>"
      ],
      "text/plain": [
       "   id  target    0\n",
       "0   0       0  1.0\n",
       "1   2       0  1.0\n",
       "2   3       0  1.0\n",
       "3   9       0  1.0\n",
       "4  11       0  1.0"
      ]
     },
     "execution_count": 61,
     "metadata": {
      "tags": []
     },
     "output_type": "execute_result"
    }
   ],
   "source": [
    "submission.head()"
   ]
  },
  {
   "cell_type": "code",
   "execution_count": 62,
   "metadata": {
    "executionInfo": {
     "elapsed": 6,
     "status": "ok",
     "timestamp": 1629196390629,
     "user": {
      "displayName": "Omkar Jadhav",
      "photoUrl": "https://lh3.googleusercontent.com/a-/AOh14GhguANC4TZmTjgMu2fbtYP9pYtfeYWByKltGROoiQ=s64",
      "userId": "12015773761906114905"
     },
     "user_tz": -330
    },
    "id": "CHsS_6Uwq5Yx"
   },
   "outputs": [],
   "source": [
    "submission.drop('target', axis=1, inplace=True)"
   ]
  },
  {
   "cell_type": "code",
   "execution_count": 64,
   "metadata": {
    "executionInfo": {
     "elapsed": 381,
     "status": "ok",
     "timestamp": 1629196434632,
     "user": {
      "displayName": "Omkar Jadhav",
      "photoUrl": "https://lh3.googleusercontent.com/a-/AOh14GhguANC4TZmTjgMu2fbtYP9pYtfeYWByKltGROoiQ=s64",
      "userId": "12015773761906114905"
     },
     "user_tz": -330
    },
    "id": "S99XLwIWrAqr"
   },
   "outputs": [],
   "source": [
    "submission.rename({'0': 'target'}, inplace=True)"
   ]
  },
  {
   "cell_type": "code",
   "execution_count": null,
   "metadata": {
    "id": "KCLzisE3rGza"
   },
   "outputs": [],
   "source": [
    "export_path = '/content/drive/MyDrive/Kaggle/identify disaster tweets/'"
   ]
  },
  {
   "cell_type": "code",
   "execution_count": 65,
   "metadata": {
    "executionInfo": {
     "elapsed": 417,
     "status": "ok",
     "timestamp": 1629196487737,
     "user": {
      "displayName": "Omkar Jadhav",
      "photoUrl": "https://lh3.googleusercontent.com/a-/AOh14GhguANC4TZmTjgMu2fbtYP9pYtfeYWByKltGROoiQ=s64",
      "userId": "12015773761906114905"
     },
     "user_tz": -330
    },
    "id": "kXpQnyzkrSMt"
   },
   "outputs": [],
   "source": [
    "submission.to_csv('/content/drive/MyDrive/Kaggle/identify disaster tweets/submission.csv')"
   ]
  },
  {
   "cell_type": "markdown",
   "metadata": {
    "id": "M8qPtenlrYgx"
   },
   "source": [
    "Accuracy post kaggle submission: 78%\n",
    "\n",
    "<https://www.kaggle.com/c/nlp-getting-started/leaderboard#score>"
   ]
  }
 ],
 "metadata": {
  "colab": {
   "authorship_tag": "ABX9TyNSAgJzbz6/I/qqbQuZUIct",
   "collapsed_sections": [],
   "mount_file_id": "1mURT3WObx2DzhCC5R6bTvE-UAKxTZpIY",
   "name": "disaster_tweets.ipynb",
   "provenance": []
  },
  "kernelspec": {
   "display_name": "Python 3",
   "language": "python",
   "name": "python3"
  },
  "language_info": {
   "codemirror_mode": {
    "name": "ipython",
    "version": 3
   },
   "file_extension": ".py",
   "mimetype": "text/x-python",
   "name": "python",
   "nbconvert_exporter": "python",
   "pygments_lexer": "ipython3",
   "version": "3.6.5"
  }
 },
 "nbformat": 4,
 "nbformat_minor": 4
}
